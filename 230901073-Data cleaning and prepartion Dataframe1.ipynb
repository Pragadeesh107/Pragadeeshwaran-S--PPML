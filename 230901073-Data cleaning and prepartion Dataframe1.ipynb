{
 "cells": [
  {
   "cell_type": "code",
   "execution_count": 2,
   "id": "650fb84a",
   "metadata": {},
   "outputs": [
    {
     "name": "stdout",
     "output_type": "stream",
     "text": [
      "Original DataFrame with NaN\n",
      "         one       two     three\n",
      "a -0.395957  0.632432  0.685610\n",
      "b       NaN       NaN       NaN\n",
      "c -0.662515 -1.225411  0.126528\n",
      "d       NaN       NaN       NaN\n",
      "e  2.066885 -2.127582  1.280650\n",
      "f -0.173104 -0.423251 -1.803999\n",
      "/n\n",
      "Dropped DataFrame \n",
      "         one       two     three\n",
      "a -0.395957  0.632432  0.685610\n",
      "c -0.662515 -1.225411  0.126528\n",
      "e  2.066885 -2.127582  1.280650\n",
      "f -0.173104 -0.423251 -1.803999\n",
      "/n\n"
     ]
    }
   ],
   "source": [
    "import pandas as pd\n",
    "import numpy as np\n",
    "df=pd.DataFrame(np.random.randn(4,3),index=['a','c','e','f'],columns=['one','two','three'])\n",
    "df=df.reindex(['a','b','c','d','e','f'])\n",
    "print(\"Original DataFrame with NaN\\n\",df)\n",
    "print(\"/n\")\n",
    "print(\"Dropped DataFrame \\n\",df.dropna())\n",
    "print(\"/n\")"
   ]
  },
  {
   "cell_type": "code",
   "execution_count": 8,
   "id": "f9a1b542",
   "metadata": {},
   "outputs": [
    {
     "name": "stdout",
     "output_type": "stream",
     "text": [
      "original dataFrame:\n",
      "         one       two     three\n",
      "a  0.697363  0.359982  0.599660\n",
      "b       NaN       NaN       NaN\n",
      "c  0.761543  0.224230  0.668775\n",
      "\n",
      "\n",
      "NaN replaced with '0':\n",
      "\n",
      "        one       two     three\n",
      "a  0.697363  0.359982  0.599660\n",
      "b  0.000000  0.000000  0.000000\n",
      "c  0.761543  0.224230  0.668775\n"
     ]
    }
   ],
   "source": [
    "import pandas as pd\n",
    "import numpy as np\n",
    "df=pd.DataFrame(np.random.rand(4,3),index=['a','c','d','f'],columns=['one','two','three'])\n",
    "df=df.reindex(['a','b','c'])\n",
    "print(\"original dataFrame:\\n\",df)\n",
    "print(\"\\n\")\n",
    "print(\"NaN replaced with '0':\\n\")\n",
    "print(df.fillna(0))"
   ]
  },
  {
   "cell_type": "code",
   "execution_count": 9,
   "id": "b8c8040f",
   "metadata": {},
   "outputs": [
    {
     "name": "stdout",
     "output_type": "stream",
     "text": [
      "original DataFrame:\n",
      ",df\n",
      "\n",
      " DataFrame with replaced value:\n",
      "\n",
      "   one  two\n",
      "0    5   60\n",
      "1   20   70\n",
      "2   30   80\n",
      "3   40   90\n",
      "4   50  100\n"
     ]
    }
   ],
   "source": [
    "df=pd.DataFrame({'one':[10,20,30,40,50],'two':[60,70,80,90,100]})\n",
    "print(\"original DataFrame:\\n,df\")\n",
    "print(\"\\n DataFrame with replaced value:\\n\")\n",
    "print(df.replace({10:5,8:3}))"
   ]
  },
  {
   "cell_type": "code",
   "execution_count": 19,
   "id": "b4d3e533",
   "metadata": {},
   "outputs": [
    {
     "name": "stdout",
     "output_type": "stream",
     "text": [
      "original DataFrame:\n",
      "         one       two     three\n",
      "a  1.263556 -0.928409  0.457400\n",
      "b       NaN       NaN       NaN\n",
      "c -0.390705 -0.185020  1.996928\n",
      "d  0.611151  0.653006  1.160656\n",
      "e       NaN       NaN       NaN\n",
      "f  0.292730 -0.808872 -2.039321\n",
      "\n",
      " NaN-with TrueFill:\n",
      "\n",
      "a    False\n",
      "b     True\n",
      "c    False\n",
      "d    False\n",
      "e     True\n",
      "f    False\n",
      "Name: one, dtype: bool\n"
     ]
    }
   ],
   "source": [
    "df=pd.DataFrame(np.random.randn(4,3),index=['a','c','d','f'],columns=['one','two','three'])\n",
    "df=df.reindex(['a','b','c','d','e','f'])\n",
    "print(\"original DataFrame:\\n\",df)\n",
    "print(\"\\n NaN-with TrueFill:\\n\")\n",
    "print(df['one'].isnull())"
   ]
  },
  {
   "cell_type": "code",
   "execution_count": 20,
   "id": "1e15fa0d",
   "metadata": {},
   "outputs": [
    {
     "name": "stdout",
     "output_type": "stream",
     "text": [
      "original DataFrame:\n",
      "         one       two     three\n",
      "a  0.153169 -0.510054  0.309896\n",
      "b       NaN       NaN       NaN\n",
      "c  0.448391  0.659322 -1.235882\n",
      "d -2.173036 -0.426940 -0.711760\n",
      "e       NaN       NaN       NaN\n",
      "f -0.775015  0.177721  0.946656\n",
      "\n",
      " NaN-filled with background Values:\n",
      "\n",
      "        one       two     three\n",
      "a  0.153169 -0.510054  0.309896\n",
      "b  0.448391  0.659322 -1.235882\n",
      "c  0.448391  0.659322 -1.235882\n",
      "d -2.173036 -0.426940 -0.711760\n",
      "e -0.775015  0.177721  0.946656\n",
      "f -0.775015  0.177721  0.946656\n"
     ]
    }
   ],
   "source": [
    "df=pd.DataFrame(np.random.randn(4,3),index=['a','c','d','f'],columns=['one','two','three'])\n",
    "df=df.reindex(['a','b','c','d','e','f'])\n",
    "print(\"original DataFrame:\\n\",df)\n",
    "print(\"\\n NaN-filled with background Values:\\n\")\n",
    "print(df.fillna(method='bfill'))"
   ]
  },
  {
   "cell_type": "code",
   "execution_count": null,
   "id": "29b374e7",
   "metadata": {},
   "outputs": [],
   "source": []
  }
 ],
 "metadata": {
  "kernelspec": {
   "display_name": "Python 3 (ipykernel)",
   "language": "python",
   "name": "python3"
  },
  "language_info": {
   "codemirror_mode": {
    "name": "ipython",
    "version": 3
   },
   "file_extension": ".py",
   "mimetype": "text/x-python",
   "name": "python",
   "nbconvert_exporter": "python",
   "pygments_lexer": "ipython3",
   "version": "3.11.3"
  }
 },
 "nbformat": 4,
 "nbformat_minor": 5
}
