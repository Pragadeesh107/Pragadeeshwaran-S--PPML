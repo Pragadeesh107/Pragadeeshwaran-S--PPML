{
 "cells": [
  {
   "cell_type": "markdown",
   "id": "053220a7",
   "metadata": {},
   "source": [
    "import numpy as np\n",
    "import pandas as pd\n",
    "df=pd.DataFrame({'Name':['Alice','Bob','Charlie','Alice','Bob','Charlie'],'Category':['A','B','C','A','B','C'],'value':np.random.randint(1,5,size=6),'Score':np.random.randint(60,100,size=6)})\n",
    "print(\"\\n Original DataFrame:\\n\",df)"
   ]
  },
  {
   "cell_type": "code",
   "execution_count": 12,
   "id": "5ce649f8",
   "metadata": {},
   "outputs": [
    {
     "name": "stdout",
     "output_type": "stream",
     "text": [
      "\n",
      " Group by name and Aggregation with one column sum:\n",
      "       Name  value\n",
      "0    Alice      8\n",
      "1      Bob      2\n",
      "2  Charlie      5\n"
     ]
    }
   ],
   "source": [
    "df1=df.groupby(('Name'),as_index=False)['value'].sum()\n",
    "print(\"\\n Group by name and Aggregation with one column sum:\\n\",df1)"
   ]
  },
  {
   "cell_type": "code",
   "execution_count": 17,
   "id": "432a4af4",
   "metadata": {},
   "outputs": [
    {
     "name": "stdout",
     "output_type": "stream",
     "text": [
      "\n",
      "Group by name and Aggregation with two column:\n",
      "       Name  value  Score\n",
      "0    Alice      8    129\n",
      "1      Bob      2    138\n",
      "2  Charlie      5    161\n"
     ]
    }
   ],
   "source": [
    "df2=df.groupby(('Name'),as_index=False)[['value','Score']].sum()\n",
    "print(\"\\nGroup by name and Aggregation with two column:\\n\",df2)"
   ]
  },
  {
   "cell_type": "code",
   "execution_count": 18,
   "id": "15325c2d",
   "metadata": {},
   "outputs": [
    {
     "name": "stdout",
     "output_type": "stream",
     "text": [
      "\n",
      "Group by name and Aggregation with one column using agg function:\n",
      "       Name  value\n",
      "0    Alice      8\n",
      "1      Bob      2\n",
      "2  Charlie      5\n"
     ]
    }
   ],
   "source": [
    "df3=df.groupby(('Name'),as_index=False)['value'].agg('sum')\n",
    "print(\"\\nGroup by name and Aggregation with one column using agg function:\\n\",df3)"
   ]
  },
  {
   "cell_type": "code",
   "execution_count": 21,
   "id": "ddff1567",
   "metadata": {},
   "outputs": [
    {
     "name": "stdout",
     "output_type": "stream",
     "text": [
      "\n",
      "Group by name and multiple Aggregation functions :\n",
      "         value              Score      \n",
      "          sum mean min max   sum  mean\n",
      "Name                                  \n",
      "Alice       8  4.0   4   4   129  64.5\n",
      "Bob         2  1.0   1   1   138  69.0\n",
      "Charlie     5  2.5   1   4   161  80.5\n"
     ]
    }
   ],
   "source": [
    "df4 = df.groupby('Name').agg({'value': ['sum', 'mean', 'min', 'max'],'Score': ['sum', 'mean']})\n",
    "print(\"\\nGroup by name and multiple Aggregation functions :\\n\", df4)"
   ]
  },
  {
   "cell_type": "code",
   "execution_count": 23,
   "id": "af8ec2c5",
   "metadata": {},
   "outputs": [
    {
     "name": "stdout",
     "output_type": "stream",
     "text": [
      "\n",
      " Group and count:\n",
      "       Name  value\n",
      "0    Alice      2\n",
      "1      Bob      2\n",
      "2  Charlie      2\n"
     ]
    }
   ],
   "source": [
    "df5=df.groupby(('Name'),as_index=False)['value'].count()\n",
    "print(\"\\n Group and count:\\n\",df5)"
   ]
  },
  {
   "cell_type": "code",
   "execution_count": 24,
   "id": "1028f576",
   "metadata": {},
   "outputs": [
    {
     "name": "stdout",
     "output_type": "stream",
     "text": [
      "\n",
      " Group and count:\n",
      "          Category  value  Score\n",
      "Name                           \n",
      "Alice           2      2      2\n",
      "Bob             2      2      2\n",
      "Charlie         2      2      2\n"
     ]
    }
   ],
   "source": [
    "df6=df.groupby(('Name')).count()\n",
    "print(\"\\n Group and count:\\n\",df6)"
   ]
  },
  {
   "cell_type": "code",
   "execution_count": 27,
   "id": "2959e77b",
   "metadata": {},
   "outputs": [
    {
     "name": "stdout",
     "output_type": "stream",
     "text": [
      "\n",
      " Group and display from first:\n",
      "       Name  value\n",
      "0    Alice      4\n",
      "1      Bob      1\n",
      "2  Charlie      4\n"
     ]
    }
   ],
   "source": [
    "df7=df.groupby(('Name'),as_index=False)['value'].first()\n",
    "print(\"\\n Group and display from first:\\n\",df7)"
   ]
  },
  {
   "cell_type": "code",
   "execution_count": 28,
   "id": "5e3bade7",
   "metadata": {},
   "outputs": [
    {
     "name": "stdout",
     "output_type": "stream",
     "text": [
      "\n",
      " Group and display from first:\n",
      "         Category  value  Score\n",
      "Name                          \n",
      "Alice          A      4     68\n",
      "Bob            B      1     78\n",
      "Charlie        C      4     95\n"
     ]
    }
   ],
   "source": [
    "df8=df.groupby(('Name')).first()\n",
    "print(\"\\n Group and display from first:\\n\",df8)"
   ]
  },
  {
   "cell_type": "code",
   "execution_count": 30,
   "id": "d5b4612e",
   "metadata": {},
   "outputs": [
    {
     "name": "stdout",
     "output_type": "stream",
     "text": [
      "\n",
      " Group and display from last:\n",
      "         Category  value  Score\n",
      "Name                          \n",
      "Alice          A      4     61\n",
      "Bob            B      1     60\n",
      "Charlie        C      1     66\n"
     ]
    }
   ],
   "source": [
    "df9=df.groupby(('Name')).last()\n",
    "print(\"\\n Group and display from last:\\n\",df9)"
   ]
  },
  {
   "cell_type": "code",
   "execution_count": 11,
   "id": "2e636105",
   "metadata": {},
   "outputs": [
    {
     "name": "stdout",
     "output_type": "stream",
     "text": [
      "\n",
      " Original DataFrame:\n",
      "       Name Category  value  Score\n",
      "0    Alice        A      2     92\n",
      "1      Bob        B      1     81\n",
      "2  Charlie        C      2     84\n",
      "3    Alice        A      1     81\n",
      "4      Bob        B      2     97\n",
      "5  Charlie        C      1     73\n",
      "\n",
      " Group and display from last:\n",
      "       Name  value\n",
      "0    Alice      1\n",
      "1      Bob      2\n",
      "2  Charlie      1\n"
     ]
    }
   ],
   "source": [
    "import numpy as np\n",
    "import pandas as pd\n",
    "df=pd.DataFrame({'Name':['Alice','Bob','Charlie','Alice','Bob','Charlie'],'Category':['A','B','C','A','B','C'],'value':np.random.randint(1,5,size=6),'Score':np.random.randint(60,100,size=6)})\n",
    "print(\"\\n Original DataFrame:\\n\",df)\n",
    "df10=df.groupby(('Name'),as_index=False)['value'].last()\n",
    "print(\"\\n Group and display from last:\\n\",df10)"
   ]
  },
  {
   "cell_type": "code",
   "execution_count": 33,
   "id": "8a440028",
   "metadata": {},
   "outputs": [
    {
     "name": "stdout",
     "output_type": "stream",
     "text": [
      "\n",
      " Group and display from size:\n",
      " Name\n",
      "Alice      2\n",
      "Bob        2\n",
      "Charlie    2\n",
      "dtype: int64\n"
     ]
    }
   ],
   "source": [
    "df11=df.groupby(('Name')).size()\n",
    "print(\"\\n Group and display from size:\\n\",df11)"
   ]
  },
  {
   "cell_type": "code",
   "execution_count": 35,
   "id": "1e55ee0b",
   "metadata": {},
   "outputs": [
    {
     "name": "stdout",
     "output_type": "stream",
     "text": [
      "\n",
      " Group and display from size:\n",
      "       Name  size\n",
      "0    Alice     2\n",
      "1      Bob     2\n",
      "2  Charlie     2\n"
     ]
    }
   ],
   "source": [
    " df12=df.groupby(('Name'),as_index=False)['value'].size()\n",
    "print(\"\\n Group and display from size:\\n\",df12)"
   ]
  },
  {
   "cell_type": "code",
   "execution_count": null,
   "id": "8dfa835c",
   "metadata": {},
   "outputs": [],
   "source": []
  }
 ],
 "metadata": {
  "kernelspec": {
   "display_name": "Python 3 (ipykernel)",
   "language": "python",
   "name": "python3"
  },
  "language_info": {
   "codemirror_mode": {
    "name": "ipython",
    "version": 3
   },
   "file_extension": ".py",
   "mimetype": "text/x-python",
   "name": "python",
   "nbconvert_exporter": "python",
   "pygments_lexer": "ipython3",
   "version": "3.11.3"
  }
 },
 "nbformat": 4,
 "nbformat_minor": 5
}
