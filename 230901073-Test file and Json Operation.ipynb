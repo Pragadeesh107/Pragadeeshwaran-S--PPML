{
 "cells": [
  {
   "cell_type": "code",
   "execution_count": 38,
   "id": "f3584b00-c160-46b6-9041-9276aa790aab",
   "metadata": {},
   "outputs": [
    {
     "name": "stdout",
     "output_type": "stream",
     "text": [
      "One\n",
      "\n",
      "Two\n",
      "\n",
      "Three\n",
      "\n"
     ]
    }
   ],
   "source": [
    "f=open(\"D:/rani.txt\",\"w\")\n",
    "f.write(\"One\\n\")\n",
    "f.write(\"Two\\n\")\n",
    "f.write(\"Three\\n\")\n",
    "f.close\n",
    "a=open(\"D:/rani.txt\",\"r\")\n",
    "print(a.readline())\n",
    "print(a.readline())\n",
    "print(a.readline())\n",
    "a.close()"
   ]
  },
  {
   "cell_type": "code",
   "execution_count": 39,
   "id": "520e23ee-6a42-4665-831e-29d2e431a6e7",
   "metadata": {},
   "outputs": [
    {
     "name": "stdout",
     "output_type": "stream",
     "text": [
      "One\n",
      "Two\n",
      "Three\n",
      "Four\n",
      "Five\n",
      "\n"
     ]
    }
   ],
   "source": [
    "b=open(\"D:/rani.txt\",\"a\")\n",
    "b.write(\"Four\\n\")\n",
    "b.write(\"Five\\n\")\n",
    "b.close()\n",
    "c=open(\"D:/rani.txt\",\"r\")\n",
    "print(c.read())\n",
    "c.close()"
   ]
  },
  {
   "cell_type": "code",
   "execution_count": 40,
   "id": "e7aa2c62-ac3c-423b-a359-6fba8e8aeeb1",
   "metadata": {},
   "outputs": [
    {
     "name": "stdout",
     "output_type": "stream",
     "text": [
      "One\n",
      "\n"
     ]
    }
   ],
   "source": [
    "with open(\"D:/rani.txt\",\"r\")as file:\n",
    "    lines=file.readline()\n",
    "    print(lines)"
   ]
  },
  {
   "cell_type": "code",
   "execution_count": 41,
   "id": "70a971ae-6f83-4cd7-9921-6b982848fb5a",
   "metadata": {},
   "outputs": [
    {
     "name": "stdout",
     "output_type": "stream",
     "text": [
      "Two\n"
     ]
    }
   ],
   "source": [
    "import json\n",
    "x='{\"name\":\"One\",\"Age\":20,\"City\":\"Two\"}'\n",
    "y=json.loads(x)\n",
    "print(y['City'])"
   ]
  },
  {
   "cell_type": "code",
   "execution_count": 43,
   "id": "6be28052-aead-475f-b192-21a091c5eedd",
   "metadata": {},
   "outputs": [
    {
     "name": "stdout",
     "output_type": "stream",
     "text": [
      "['One\\n', 'Two\\n', 'Three\\n', 'Four\\n', 'Five\\n']\n"
     ]
    }
   ],
   "source": [
    "with open (\"D:/rani.txt\",\"r\") as file:\n",
    "    lines=file.readlines()\n",
    "    print(lines)"
   ]
  },
  {
   "cell_type": "code",
   "execution_count": null,
   "id": "5b1a3298-2e80-498d-8936-caae0f790d1b",
   "metadata": {},
   "outputs": [],
   "source": []
  }
 ],
 "metadata": {
  "kernelspec": {
   "display_name": "Python 3 (ipykernel)",
   "language": "python",
   "name": "python3"
  },
  "language_info": {
   "codemirror_mode": {
    "name": "ipython",
    "version": 3
   },
   "file_extension": ".py",
   "mimetype": "text/x-python",
   "name": "python",
   "nbconvert_exporter": "python",
   "pygments_lexer": "ipython3",
   "version": "3.12.7"
  }
 },
 "nbformat": 4,
 "nbformat_minor": 5
}
