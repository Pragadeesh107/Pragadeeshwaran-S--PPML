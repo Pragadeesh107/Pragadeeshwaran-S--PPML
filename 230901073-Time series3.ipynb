{
 "cells": [
  {
   "cell_type": "code",
   "execution_count": 1,
   "id": "00027d1c",
   "metadata": {},
   "outputs": [
    {
     "name": "stdout",
     "output_type": "stream",
     "text": [
      "Date Index \n",
      " 2011-01-02    2.011493\n",
      "2011-01-05    1.430920\n",
      "2011-01-07   -1.108105\n",
      "2011-01-08   -1.043228\n",
      "2011-01-10    0.951084\n",
      "2011-01-12    1.686444\n",
      "dtype: float64\n"
     ]
    }
   ],
   "source": [
    "import pandas as pd\n",
    "import numpy as np\n",
    "from datetime import datetime\n",
    "dates = [datetime(2011, 1, 2),\n",
    "         datetime(2011, 1, 5),\n",
    "         datetime(2011, 1, 7),\n",
    "         datetime(2011, 1, 8),\n",
    "         datetime(2011, 1, 10),\n",
    "         datetime(2011, 1, 12)]\n",
    "ts = pd.Series(np.random.randn(6), index=dates)\n",
    "print(\"Date Index \\n\",ts)\n"
   ]
  },
  {
   "cell_type": "code",
   "execution_count": 2,
   "id": "0027a197",
   "metadata": {},
   "outputs": [
    {
     "name": "stdout",
     "output_type": "stream",
     "text": [
      "\n",
      "Date Index alone from the series: \n",
      " DatetimeIndex(['2011-01-02', '2011-01-05', '2011-01-07', '2011-01-08',\n",
      "               '2011-01-10', '2011-01-12'],\n",
      "              dtype='datetime64[ns]', freq=None)\n"
     ]
    }
   ],
   "source": [
    "print(\"\\nDate Index alone from the series: \\n\",ts.index)\n"
   ]
  },
  {
   "cell_type": "code",
   "execution_count": 3,
   "id": "4049b415",
   "metadata": {},
   "outputs": [
    {
     "name": "stdout",
     "output_type": "stream",
     "text": [
      "\n",
      "Second index:\n",
      " 2011-01-07 00:00:00\n"
     ]
    }
   ],
   "source": [
    "stamp=ts.index[2]\n",
    "print(\"\\nSecond index:\\n\", stamp)\n"
   ]
  },
  {
   "cell_type": "code",
   "execution_count": 4,
   "id": "eee0572c",
   "metadata": {},
   "outputs": [
    {
     "name": "stdout",
     "output_type": "stream",
     "text": [
      "\n",
      "Daterange up to 1000 days:\n",
      " 2000-01-01    0.121514\n",
      "2000-01-02   -1.431594\n",
      "2000-01-03   -0.956511\n",
      "2000-01-04    0.458731\n",
      "2000-01-05   -0.522024\n",
      "                ...   \n",
      "2002-09-22   -1.302980\n",
      "2002-09-23   -0.750068\n",
      "2002-09-24   -0.271042\n",
      "2002-09-25   -0.456662\n",
      "2002-09-26    0.136870\n",
      "Freq: D, Length: 1000, dtype: float64\n"
     ]
    }
   ],
   "source": [
    "longer_ts=pd.Series(np.random.randn(1000),\n",
    "                    index=pd.date_range(\"2000-01-01\",periods=1000))\n",
    "print(\"\\nDaterange up to 1000 days:\\n\",longer_ts)\n"
   ]
  },
  {
   "cell_type": "code",
   "execution_count": 5,
   "id": "4263183e",
   "metadata": {},
   "outputs": [
    {
     "name": "stdout",
     "output_type": "stream",
     "text": [
      "\n",
      "Date range-2001 year:\n",
      " 2001-01-01   -1.724750\n",
      "2001-01-02    0.349283\n",
      "2001-01-03    0.281643\n",
      "2001-01-04    0.793488\n",
      "2001-01-05    0.839255\n",
      "                ...   \n",
      "2001-12-27   -1.283567\n",
      "2001-12-28    0.092614\n",
      "2001-12-29   -0.481388\n",
      "2001-12-30   -1.660188\n",
      "2001-12-31    1.420840\n",
      "Freq: D, Length: 365, dtype: float64\n"
     ]
    }
   ],
   "source": [
    "print(\"\\nDate range-2001 year:\\n\", longer_ts[\"2001\"])\n"
   ]
  },
  {
   "cell_type": "code",
   "execution_count": 6,
   "id": "04d8672c",
   "metadata": {},
   "outputs": [
    {
     "name": "stdout",
     "output_type": "stream",
     "text": [
      "\n",
      "Date range-05 month 2001 year:\n",
      " 2001-05-01    0.083808\n",
      "2001-05-02   -0.576807\n",
      "2001-05-03    0.264709\n",
      "2001-05-04   -0.209843\n",
      "2001-05-05    0.207048\n",
      "2001-05-06    1.504923\n",
      "2001-05-07   -0.098024\n",
      "2001-05-08    0.522525\n",
      "2001-05-09    0.578096\n",
      "2001-05-10    1.821349\n",
      "2001-05-11    0.405635\n",
      "2001-05-12   -0.915703\n",
      "2001-05-13    0.001255\n",
      "2001-05-14    0.874389\n",
      "2001-05-15   -1.191438\n",
      "2001-05-16   -0.457455\n",
      "2001-05-17   -0.261016\n",
      "2001-05-18   -0.442775\n",
      "2001-05-19    0.243054\n",
      "2001-05-20    0.531276\n",
      "2001-05-21    0.069313\n",
      "2001-05-22    0.235575\n",
      "2001-05-23    1.057708\n",
      "2001-05-24   -1.048426\n",
      "2001-05-25    0.624185\n",
      "2001-05-26   -1.325736\n",
      "2001-05-27    1.155460\n",
      "2001-05-28   -0.770705\n",
      "2001-05-29   -0.125586\n",
      "2001-05-30   -0.625122\n",
      "2001-05-31   -1.563404\n",
      "Freq: D, dtype: float64\n"
     ]
    }
   ],
   "source": [
    "print(\"\\nDate range-05 month 2001 year:\\n\", longer_ts[\"2001-05\"])\n"
   ]
  },
  {
   "cell_type": "code",
   "execution_count": 7,
   "id": "fb683754",
   "metadata": {},
   "outputs": [
    {
     "name": "stdout",
     "output_type": "stream",
     "text": [
      "\n",
      "Date range-first few dates in 2000 year:\n",
      " 2000-01-01    0.121514\n",
      "2000-01-02   -1.431594\n",
      "2000-01-03   -0.956511\n",
      "2000-01-04    0.458731\n",
      "2000-01-05   -0.522024\n",
      "Freq: D, dtype: float64\n"
     ]
    }
   ],
   "source": [
    "print(\"\\nDate range-first few dates in 2000 year:\\n\",longer_ts[\"2000\"].head())\n"
   ]
  },
  {
   "cell_type": "code",
   "execution_count": 8,
   "id": "afcd6649",
   "metadata": {},
   "outputs": [
    {
     "name": "stdout",
     "output_type": "stream",
     "text": [
      "\n",
      "Date range-first 15 dates in 02 month 2001 year:\n",
      " 2000-02-01   -2.911704\n",
      "2000-02-02    0.008507\n",
      "2000-02-03   -1.246260\n",
      "2000-02-04    1.460376\n",
      "2000-02-05   -0.075267\n",
      "2000-02-06   -0.669566\n",
      "2000-02-07    1.784427\n",
      "2000-02-08    0.603286\n",
      "2000-02-09    0.525533\n",
      "2000-02-10   -0.960158\n",
      "2000-02-11   -0.698528\n",
      "2000-02-12    0.936370\n",
      "2000-02-13   -0.521625\n",
      "2000-02-14   -0.252321\n",
      "2000-02-15    0.496771\n",
      "Freq: D, dtype: float64\n"
     ]
    }
   ],
   "source": [
    "print(\"\\nDate range-first 15 dates in 02 month 2001 year:\\n\",longer_ts[\"2000-02\"].head(15))\n"
   ]
  },
  {
   "cell_type": "code",
   "execution_count": 9,
   "id": "462192d6",
   "metadata": {},
   "outputs": [
    {
     "name": "stdout",
     "output_type": "stream",
     "text": [
      "\n",
      "Date range-rom 26-9-2001:\n",
      " 2000-09-26    0.204834\n",
      "2000-09-27    0.372227\n",
      "2000-09-28   -0.691586\n",
      "2000-09-29    0.251867\n",
      "2000-09-30   -1.418512\n",
      "                ...   \n",
      "2002-09-22   -1.302980\n",
      "2002-09-23   -0.750068\n",
      "2002-09-24   -0.271042\n",
      "2002-09-25   -0.456662\n",
      "2002-09-26    0.136870\n",
      "Freq: D, Length: 731, dtype: float64\n"
     ]
    }
   ],
   "source": [
    "print(\"\\nDate range-rom 26-9-2001:\\n\",longer_ts[datetime(2000,9,26):])\n"
   ]
  },
  {
   "cell_type": "code",
   "execution_count": 10,
   "id": "90b46729",
   "metadata": {},
   "outputs": [
    {
     "name": "stdout",
     "output_type": "stream",
     "text": [
      "\n",
      "Date range from 26-9-2001 to 25-9- 2002:\n",
      " 2001-09-26    0.616504\n",
      "2001-09-27   -0.035530\n",
      "2001-09-28    0.157086\n",
      "2001-09-29   -1.838816\n",
      "2001-09-30    0.855084\n",
      "                ...   \n",
      "2002-09-21   -0.772193\n",
      "2002-09-22   -1.302980\n",
      "2002-09-23   -0.750068\n",
      "2002-09-24   -0.271042\n",
      "2002-09-25   -0.456662\n",
      "Freq: D, Length: 365, dtype: float64\n"
     ]
    }
   ],
   "source": [
    "print(\"\\nDate range from 26-9-2001 to 25-9- 2002:\\n\",longer_ts[datetime(2001,9,26):datetime(2002,9,25)])\n"
   ]
  },
  {
   "cell_type": "code",
   "execution_count": null,
   "id": "0bc9aa8b",
   "metadata": {},
   "outputs": [],
   "source": []
  }
 ],
 "metadata": {
  "kernelspec": {
   "display_name": "Python 3 (ipykernel)",
   "language": "python",
   "name": "python3"
  },
  "language_info": {
   "codemirror_mode": {
    "name": "ipython",
    "version": 3
   },
   "file_extension": ".py",
   "mimetype": "text/x-python",
   "name": "python",
   "nbconvert_exporter": "python",
   "pygments_lexer": "ipython3",
   "version": "3.11.3"
  }
 },
 "nbformat": 4,
 "nbformat_minor": 5
}
