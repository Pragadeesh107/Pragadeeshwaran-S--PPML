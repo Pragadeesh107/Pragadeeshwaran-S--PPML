{
 "cells": [
  {
   "cell_type": "code",
   "execution_count": 13,
   "id": "358e8b24",
   "metadata": {},
   "outputs": [
    {
     "name": "stdout",
     "output_type": "stream",
     "text": [
      "DataFrame.apply function:\n",
      "\n",
      "\n",
      " Original Dataframe:\n",
      "    S  R\n",
      "0  3  9\n",
      "1  3  9\n",
      "2  3  9\n",
      "3  3  9\n",
      "\n",
      " Squareroot of Dataframe:\n",
      "           S    R\n",
      "0  1.732051  3.0\n",
      "1  1.732051  3.0\n",
      "2  1.732051  3.0\n",
      "3  1.732051  3.0\n",
      "\n",
      " Sum of each column:\n",
      " S    12\n",
      "R    36\n",
      "dtype: int64\n",
      "\n",
      " Sum of each row:\n",
      " 0    12\n",
      "1    12\n",
      "2    12\n",
      "3    12\n",
      "dtype: int64\n"
     ]
    }
   ],
   "source": [
    "import pandas as pd\n",
    "import numpy as np\n",
    "print(\"DataFrame.apply function:\\n\")\n",
    "info=pd.DataFrame([[3,9]]*4,columns=['S','R'])\n",
    "print(\"\\n Original Dataframe:\\n\",info)\n",
    "print(\"\\n Squareroot of Dataframe:\\n\",info.apply(np.sqrt))\n",
    "print(\"\\n Sum of each column:\\n\",info.apply(np.sum,axis=0))\n",
    "print(\"\\n Sum of each row:\\n\",info.apply(np.sum,axis=1))"
   ]
  },
  {
   "cell_type": "code",
   "execution_count": 18,
   "id": "1f24f886",
   "metadata": {},
   "outputs": [
    {
     "name": "stdout",
     "output_type": "stream",
     "text": [
      "\n",
      " Origunal DtaFrame:\n",
      "    x  y  z\n",
      "0  2  4  6\n",
      "1  1  3  5\n",
      "2  5  8  7\n",
      "\n",
      " Minimum  and Maxximum af each  Column:\n",
      "\n",
      "     x  y  z\n",
      "min  1  3  5\n",
      "max  5  8  7\n"
     ]
    }
   ],
   "source": [
    "info=pd.DataFrame([[2,4,6],[1,3,5],[5,8,7]],columns=['x','y','z'])\n",
    "print(\"\\n Origunal DtaFrame:\\n\",info)\n",
    "print(\"\\n Minimum  and Maxximum af each  Column:\\n\")\n",
    "print(info.agg(['min','max']))"
   ]
  },
  {
   "cell_type": "code",
   "execution_count": 20,
   "id": "117b48c8",
   "metadata": {},
   "outputs": [
    {
     "name": "stdout",
     "output_type": "stream",
     "text": [
      "\n",
      " DataFrame.AssignFunction\n",
      "\n",
      " Original DataFrame:\n",
      "     EMP  ID\n",
      "0   Sai  88\n",
      "1  Ravi  70\n",
      "\n",
      " Adding new column:\n",
      "     EMP  ID  Age\n",
      "0   Sai  88   20\n",
      "1  Ravi  70   18\n",
      "\n",
      " Adding new column:\n",
      "     EMP  ID  Age   Sex\n",
      "0   Sai  88   20  Male\n",
      "1  Ravi  70   18  Male\n"
     ]
    }
   ],
   "source": [
    "print(\"\\n DataFrame.AssignFunction\")\n",
    "d2=pd.DataFrame([['Sai',88],[\"Ravi\",70]],columns=['EMP',\"ID\"])\n",
    "print(\"\\n Original DataFrame:\\n\",d2)\n",
    "d2['Age']=[20,18]\n",
    "print(\"\\n Adding new column:\\n\",d2)\n",
    "d=d2.assign(Sex=['Male','Male'])\n",
    "print(\"\\n Adding new column:\\n\",d)"
   ]
  },
  {
   "cell_type": "code",
   "execution_count": 23,
   "id": "aeb0af93",
   "metadata": {},
   "outputs": [
    {
     "name": "stdout",
     "output_type": "stream",
     "text": [
      "\n",
      " DataFrame.sortFunction:\n",
      "\n",
      "       col3      col4\n",
      "3 -0.381939  0.073791\n",
      "4 -0.183175  2.010230\n",
      "0 -0.030605 -0.919718\n",
      "4 -0.275245 -0.188539\n",
      "1 -1.037643  0.233975\n",
      "\n",
      " Sort index:\n",
      "        col3      col4\n",
      "0 -0.030605 -0.919718\n",
      "1 -1.037643  0.233975\n",
      "3 -0.381939  0.073791\n",
      "4 -0.183175  2.010230\n",
      "4 -0.275245 -0.188539\n",
      "\n",
      " Sort values:\n",
      "        col3      col4\n",
      "1 -1.037643  0.233975\n",
      "3 -0.381939  0.073791\n",
      "4 -0.275245 -0.188539\n",
      "4 -0.183175  2.010230\n",
      "0 -0.030605 -0.919718\n"
     ]
    }
   ],
   "source": [
    "print(\"\\n DataFrame.sortFunction:\\n\")\n",
    "info=pd.DataFrame(np.random.randn(5,2),index=[3,4,0,4,1],columns=['col3','col4'])\n",
    "print(info)\n",
    "info2=info.sort_index()\n",
    "print(\"\\n Sort index:\\n\",info2)\n",
    "info3=info.sort_values(by='col3')\n",
    "print(\"\\n Sort values:\\n\",info3)"
   ]
  },
  {
   "cell_type": "code",
   "execution_count": 3,
   "id": "ef4d4aaf",
   "metadata": {},
   "outputs": [
    {
     "name": "stdout",
     "output_type": "stream",
     "text": [
      "\n",
      " DataFrame.mergeFunction:\n",
      "\n",
      "   id  Name   sub\n",
      "0   1   sai  sub1\n",
      "1   2   poo  sub2\n",
      "2   3   raj  sub4\n",
      "3   4  yuvi  sub3\n",
      "   id  Name   sub\n",
      "0   1   sai  sub1\n",
      "1   2   poo  sub2\n",
      "2   3   raj  sub4\n",
      "3   4  yuvi  sub3\n",
      "   id Name_x sub_x Name_y sub_y\n",
      "0   1    sai  sub1    sai  sub1\n",
      "1   2    poo  sub2    poo  sub2\n",
      "2   3    raj  sub4    raj  sub4\n",
      "3   4   yuvi  sub3   yuvi  sub3\n"
     ]
    }
   ],
   "source": [
    "import pandas as pd\n",
    "print(\"\\n DataFrame.mergeFunction:\\n\")\n",
    "left=pd.DataFrame({'id':[1,2,3,4],'Name':['sai','poo','raj','yuvi'],'sub':['sub1','sub2','sub4','sub3']})\n",
    "right=pd.DataFrame({'id':[1,2,3,4],'Name':['sai','poo','raj','yuvi'],'sub':['sub1','sub2','sub4','sub3']})\n",
    "print(left)\n",
    "print(right)\n",
    "print(pd.merge(left,right,on=\"id\"))"
   ]
  },
  {
   "cell_type": "code",
   "execution_count": null,
   "id": "2222599c",
   "metadata": {},
   "outputs": [],
   "source": []
  }
 ],
 "metadata": {
  "kernelspec": {
   "display_name": "Python 3 (ipykernel)",
   "language": "python",
   "name": "python3"
  },
  "language_info": {
   "codemirror_mode": {
    "name": "ipython",
    "version": 3
   },
   "file_extension": ".py",
   "mimetype": "text/x-python",
   "name": "python",
   "nbconvert_exporter": "python",
   "pygments_lexer": "ipython3",
   "version": "3.11.3"
  }
 },
 "nbformat": 4,
 "nbformat_minor": 5
}
